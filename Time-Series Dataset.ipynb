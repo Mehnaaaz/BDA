{
 "cells": [
  {
   "cell_type": "code",
   "execution_count": 1,
   "id": "3e462af4-c1e3-4c8d-aced-4e12aeb769a3",
   "metadata": {},
   "outputs": [
    {
     "name": "stdout",
     "output_type": "stream",
     "text": [
      "Original Time-Series Data:\n",
      "                value\n",
      "date                 \n",
      "2020-01-01  54.967142\n",
      "2020-01-02  48.617357\n",
      "2020-01-03  56.476885\n",
      "2020-01-04  65.230299\n",
      "2020-01-05  47.658466\n",
      "2020-01-06  47.658630\n",
      "2020-01-07  65.792128\n",
      "2020-01-08  57.674347\n",
      "2020-01-09  45.305256\n",
      "2020-01-10  55.425600\n",
      "\n",
      "Time-Series Data with Lag Features:\n",
      "                value      lag_1      lag_2      lag_3\n",
      "date                                                  \n",
      "2020-01-01  54.967142        NaN        NaN        NaN\n",
      "2020-01-02  48.617357  54.967142        NaN        NaN\n",
      "2020-01-03  56.476885  48.617357  54.967142        NaN\n",
      "2020-01-04  65.230299  56.476885  48.617357  54.967142\n",
      "2020-01-05  47.658466  65.230299  56.476885  48.617357\n",
      "2020-01-06  47.658630  47.658466  65.230299  56.476885\n",
      "2020-01-07  65.792128  47.658630  47.658466  65.230299\n",
      "2020-01-08  57.674347  65.792128  47.658630  47.658466\n",
      "2020-01-09  45.305256  57.674347  65.792128  47.658630\n",
      "2020-01-10  55.425600  45.305256  57.674347  65.792128\n",
      "\n",
      "Time-Series Data with Rolling Mean Feature:\n",
      "                value      lag_1      lag_2      lag_3  rolling_mean_2\n",
      "date                                                                  \n",
      "2020-01-01  54.967142        NaN        NaN        NaN             NaN\n",
      "2020-01-02  48.617357  54.967142        NaN        NaN       51.792249\n",
      "2020-01-03  56.476885  48.617357  54.967142        NaN       52.547121\n",
      "2020-01-04  65.230299  56.476885  48.617357  54.967142       60.853592\n",
      "2020-01-05  47.658466  65.230299  56.476885  48.617357       56.444382\n",
      "2020-01-06  47.658630  47.658466  65.230299  56.476885       47.658548\n",
      "2020-01-07  65.792128  47.658630  47.658466  65.230299       56.725379\n",
      "2020-01-08  57.674347  65.792128  47.658630  47.658466       61.733238\n",
      "2020-01-09  45.305256  57.674347  65.792128  47.658630       51.489802\n",
      "2020-01-10  55.425600  45.305256  57.674347  65.792128       50.365428\n"
     ]
    }
   ],
   "source": [
    "import pandas as pd\n",
    "import numpy as np\n",
    "\n",
    "# Generate a sample time-series dataset\n",
    "np.random.seed(42)\n",
    "date_range = pd.date_range(start='2020-01-01', periods=10, freq='D')\n",
    "data = pd.DataFrame({\n",
    "    'date': date_range,\n",
    "    'value': np.random.randn(10) * 10 + 50  # Some random data\n",
    "})\n",
    "\n",
    "# Set the date as the index for time-series manipulation\n",
    "data.set_index('date', inplace=True)\n",
    "\n",
    "# Show the original dataset\n",
    "print(\"Original Time-Series Data:\")\n",
    "print(data)\n",
    "\n",
    "# --- Creating Lag Features ---\n",
    "\n",
    "# Create lag features (shift the 'value' column by 1, 2, and 3 time steps)\n",
    "data['lag_1'] = data['value'].shift(1)\n",
    "data['lag_2'] = data['value'].shift(2)\n",
    "data['lag_3'] = data['value'].shift(3)\n",
    "\n",
    "# Show the dataset with lag features\n",
    "print(\"\\nTime-Series Data with Lag Features:\")\n",
    "print(data)\n",
    "\n",
    "# --- Additional Rolling Statistics as Features ---\n",
    "# Create a rolling mean with a window of 2 days (for example)\n",
    "data['rolling_mean_2'] = data['value'].rolling(window=2).mean()\n",
    "\n",
    "# Show the dataset with rolling statistics\n",
    "print(\"\\nTime-Series Data with Rolling Mean Feature:\")\n",
    "print(data)\n"
   ]
  },
  {
   "cell_type": "code",
   "execution_count": null,
   "id": "9d297ef5-b0dd-4964-914b-f742b33efc39",
   "metadata": {},
   "outputs": [],
   "source": []
  }
 ],
 "metadata": {
  "kernelspec": {
   "display_name": "Python [conda env:base] *",
   "language": "python",
   "name": "conda-base-py"
  },
  "language_info": {
   "codemirror_mode": {
    "name": "ipython",
    "version": 3
   },
   "file_extension": ".py",
   "mimetype": "text/x-python",
   "name": "python",
   "nbconvert_exporter": "python",
   "pygments_lexer": "ipython3",
   "version": "3.12.7"
  }
 },
 "nbformat": 4,
 "nbformat_minor": 5
}
