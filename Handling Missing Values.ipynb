{
 "cells": [
  {
   "cell_type": "code",
   "execution_count": 1,
   "id": "164dead4-7f84-4dd3-96db-3cc57ead31e0",
   "metadata": {},
   "outputs": [
    {
     "name": "stdout",
     "output_type": "stream",
     "text": [
      "Original Dataset:\n",
      "    Age Gender   Salary\n",
      "0  25.0      M  50000.0\n",
      "1   NaN      F  60000.0\n",
      "2  30.0      M      NaN\n",
      "3  35.0    NaN  70000.0\n",
      "4   NaN      F  80000.0\n",
      "5  40.0      M      NaN\n"
     ]
    }
   ],
   "source": [
    "import pandas as pd\n",
    "import numpy as np\n",
    "\n",
    "# Create a sample dataset with missing values\n",
    "data = {\n",
    "    'Age': [25, np.nan, 30, 35, np.nan, 40],\n",
    "    'Gender': ['M', 'F', 'M', np.nan, 'F', 'M'],\n",
    "    'Salary': [50000, 60000, np.nan, 70000, 80000, np.nan],\n",
    "}\n",
    "\n",
    "df = pd.DataFrame(data)\n",
    "print(\"Original Dataset:\")\n",
    "print(df)\n"
   ]
  },
  {
   "cell_type": "code",
   "execution_count": 3,
   "id": "624a17ee-0223-4c4e-b43a-d27353a897eb",
   "metadata": {},
   "outputs": [
    {
     "name": "stdout",
     "output_type": "stream",
     "text": [
      "\n",
      "After Dropping Rows with Missing Values:\n",
      "    Age Gender   Salary\n",
      "0  25.0      M  50000.0\n",
      "\n",
      "After Dropping Columns with Missing Values:\n",
      "Empty DataFrame\n",
      "Columns: []\n",
      "Index: [0, 1, 2, 3, 4, 5]\n"
     ]
    }
   ],
   "source": [
    "# Drop rows with missing values\n",
    "df_drop_rows = df.dropna()\n",
    "print(\"\\nAfter Dropping Rows with Missing Values:\")\n",
    "print(df_drop_rows)\n",
    "\n",
    "# Drop columns with missing values\n",
    "df_drop_columns = df.dropna(axis=1)\n",
    "print(\"\\nAfter Dropping Columns with Missing Values:\")\n",
    "print(df_drop_columns)\n"
   ]
  },
  {
   "cell_type": "code",
   "execution_count": 5,
   "id": "c48dc26d-eead-4d26-9b23-31632131b66f",
   "metadata": {},
   "outputs": [
    {
     "name": "stdout",
     "output_type": "stream",
     "text": [
      "\n",
      "After Imputing Missing Values in 'Age' with Mean:\n",
      "    Age Gender   Salary\n",
      "0  25.0      M  50000.0\n",
      "1  32.5      F  60000.0\n",
      "2  30.0      M      NaN\n",
      "3  35.0    NaN  70000.0\n",
      "4  32.5      F  80000.0\n",
      "5  40.0      M      NaN\n",
      "\n",
      "After Imputing Missing Values in 'Gender' with Mode:\n",
      "    Age Gender   Salary\n",
      "0  25.0      M  50000.0\n",
      "1  32.5      F  60000.0\n",
      "2  30.0      M      NaN\n",
      "3  35.0      M  70000.0\n",
      "4  32.5      F  80000.0\n",
      "5  40.0      M      NaN\n",
      "\n",
      "After Imputing Missing Values in 'Salary' with Median:\n",
      "    Age Gender   Salary\n",
      "0  25.0      M  50000.0\n",
      "1  32.5      F  60000.0\n",
      "2  30.0      M  65000.0\n",
      "3  35.0      M  70000.0\n",
      "4  32.5      F  80000.0\n",
      "5  40.0      M  65000.0\n"
     ]
    }
   ],
   "source": [
    "# Impute missing values in 'Age' column with the mean\n",
    "df['Age'] = df['Age'].fillna(df['Age'].mean())\n",
    "print(\"\\nAfter Imputing Missing Values in 'Age' with Mean:\")\n",
    "print(df)\n",
    "\n",
    "# Impute missing values in 'Gender' column with the mode (most frequent value)\n",
    "df['Gender'] = df['Gender'].fillna(df['Gender'].mode()[0])\n",
    "print(\"\\nAfter Imputing Missing Values in 'Gender' with Mode:\")\n",
    "print(df)\n",
    "\n",
    "# Impute missing values in 'Salary' column with the median\n",
    "df['Salary'] = df['Salary'].fillna(df['Salary'].median())\n",
    "print(\"\\nAfter Imputing Missing Values in 'Salary' with Median:\")\n",
    "print(df)\n"
   ]
  },
  {
   "cell_type": "code",
   "execution_count": 7,
   "id": "ab500dda-7bb9-46f6-a71a-3e94f79272a3",
   "metadata": {},
   "outputs": [
    {
     "name": "stdout",
     "output_type": "stream",
     "text": [
      "\n",
      "After Forward Filling Missing Values:\n",
      "    Age Gender   Salary\n",
      "0  25.0      M  50000.0\n",
      "1  32.5      F  60000.0\n",
      "2  30.0      M  65000.0\n",
      "3  35.0      M  70000.0\n",
      "4  32.5      F  80000.0\n",
      "5  40.0      M  65000.0\n",
      "\n",
      "After Backward Filling Missing Values:\n",
      "    Age Gender   Salary\n",
      "0  25.0      M  50000.0\n",
      "1  32.5      F  60000.0\n",
      "2  30.0      M  65000.0\n",
      "3  35.0      M  70000.0\n",
      "4  32.5      F  80000.0\n",
      "5  40.0      M  65000.0\n"
     ]
    },
    {
     "name": "stderr",
     "output_type": "stream",
     "text": [
      "C:\\Users\\mehna\\AppData\\Local\\Temp\\ipykernel_28404\\1458676115.py:2: FutureWarning: DataFrame.fillna with 'method' is deprecated and will raise in a future version. Use obj.ffill() or obj.bfill() instead.\n",
      "  df_ffill = df.fillna(method='ffill')\n",
      "C:\\Users\\mehna\\AppData\\Local\\Temp\\ipykernel_28404\\1458676115.py:7: FutureWarning: DataFrame.fillna with 'method' is deprecated and will raise in a future version. Use obj.ffill() or obj.bfill() instead.\n",
      "  df_bfill = df.fillna(method='bfill')\n"
     ]
    }
   ],
   "source": [
    "# Forward fill the missing values (use the previous value to fill)\n",
    "df_ffill = df.fillna(method='ffill')\n",
    "print(\"\\nAfter Forward Filling Missing Values:\")\n",
    "print(df_ffill)\n",
    "\n",
    "# Backward fill the missing values (use the next value to fill)\n",
    "df_bfill = df.fillna(method='bfill')\n",
    "print(\"\\nAfter Backward Filling Missing Values:\")\n",
    "print(df_bfill)\n"
   ]
  },
  {
   "cell_type": "code",
   "execution_count": 9,
   "id": "8dfb266c-343d-4792-95c4-f0c378e55479",
   "metadata": {},
   "outputs": [
    {
     "name": "stdout",
     "output_type": "stream",
     "text": [
      "\n",
      "After Interpolating Missing Values:\n",
      "    Age Gender   Salary\n",
      "0  25.0      M  50000.0\n",
      "1  32.5      F  60000.0\n",
      "2  30.0      M  65000.0\n",
      "3  35.0      M  70000.0\n",
      "4  32.5      F  80000.0\n",
      "5  40.0      M  65000.0\n"
     ]
    },
    {
     "name": "stderr",
     "output_type": "stream",
     "text": [
      "C:\\Users\\mehna\\AppData\\Local\\Temp\\ipykernel_28404\\1554250489.py:2: FutureWarning: DataFrame.interpolate with object dtype is deprecated and will raise in a future version. Call obj.infer_objects(copy=False) before interpolating instead.\n",
      "  df_interpolated = df.interpolate()\n"
     ]
    }
   ],
   "source": [
    "# Interpolate missing values (linear interpolation by default)\n",
    "df_interpolated = df.interpolate()\n",
    "print(\"\\nAfter Interpolating Missing Values:\")\n",
    "print(df_interpolated)\n"
   ]
  },
  {
   "cell_type": "code",
   "execution_count": null,
   "id": "576193a5-fba3-4c75-8593-e66fa3997063",
   "metadata": {},
   "outputs": [],
   "source": []
  }
 ],
 "metadata": {
  "kernelspec": {
   "display_name": "Python [conda env:base] *",
   "language": "python",
   "name": "conda-base-py"
  },
  "language_info": {
   "codemirror_mode": {
    "name": "ipython",
    "version": 3
   },
   "file_extension": ".py",
   "mimetype": "text/x-python",
   "name": "python",
   "nbconvert_exporter": "python",
   "pygments_lexer": "ipython3",
   "version": "3.12.7"
  }
 },
 "nbformat": 4,
 "nbformat_minor": 5
}
