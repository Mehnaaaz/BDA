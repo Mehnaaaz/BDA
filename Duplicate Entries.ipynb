{
 "cells": [
  {
   "cell_type": "code",
   "execution_count": 1,
   "id": "a6e38d09-8886-4dc2-972e-5085fef93782",
   "metadata": {},
   "outputs": [
    {
     "name": "stdout",
     "output_type": "stream",
     "text": [
      "Original Dataset with Duplicates:\n",
      "   ID     Name  Age  Salary\n",
      "0   1    Alice   25   50000\n",
      "1   2      Bob   30   60000\n",
      "2   3  Charlie   35   70000\n",
      "3   4    David   40   80000\n",
      "4   5      Eve   45   90000\n",
      "5   1    Alice   25   50000\n",
      "6   2      Bob   30   60000\n",
      "\n",
      "Detected Duplicate Rows:\n",
      "0    False\n",
      "1    False\n",
      "2    False\n",
      "3    False\n",
      "4    False\n",
      "5     True\n",
      "6     True\n",
      "dtype: bool\n",
      "\n",
      "Dataset After Removing Duplicates:\n",
      "   ID     Name  Age  Salary\n",
      "0   1    Alice   25   50000\n",
      "1   2      Bob   30   60000\n",
      "2   3  Charlie   35   70000\n",
      "3   4    David   40   80000\n",
      "4   5      Eve   45   90000\n"
     ]
    }
   ],
   "source": [
    "import pandas as pd\n",
    "\n",
    "# Create a sample dataset with duplicate entries\n",
    "data = {\n",
    "    'ID': [1, 2, 3, 4, 5, 1, 2],\n",
    "    'Name': ['Alice', 'Bob', 'Charlie', 'David', 'Eve', 'Alice', 'Bob'],\n",
    "    'Age': [25, 30, 35, 40, 45, 25, 30],\n",
    "    'Salary': [50000, 60000, 70000, 80000, 90000, 50000, 60000]\n",
    "}\n",
    "\n",
    "# Convert the data into a pandas DataFrame\n",
    "df = pd.DataFrame(data)\n",
    "\n",
    "print(\"Original Dataset with Duplicates:\")\n",
    "print(df)\n",
    "\n",
    "# 1. Detecting duplicate rows\n",
    "duplicates = df.duplicated()\n",
    "print(\"\\nDetected Duplicate Rows:\")\n",
    "print(duplicates)\n",
    "\n",
    "# 2. Remove duplicate rows\n",
    "df_no_duplicates = df.drop_duplicates()\n",
    "print(\"\\nDataset After Removing Duplicates:\")\n",
    "print(df_no_duplicates)\n"
   ]
  },
  {
   "cell_type": "code",
   "execution_count": null,
   "id": "591268cb-6742-41e1-9601-0996ddc06625",
   "metadata": {},
   "outputs": [],
   "source": []
  }
 ],
 "metadata": {
  "kernelspec": {
   "display_name": "Python [conda env:base] *",
   "language": "python",
   "name": "conda-base-py"
  },
  "language_info": {
   "codemirror_mode": {
    "name": "ipython",
    "version": 3
   },
   "file_extension": ".py",
   "mimetype": "text/x-python",
   "name": "python",
   "nbconvert_exporter": "python",
   "pygments_lexer": "ipython3",
   "version": "3.12.7"
  }
 },
 "nbformat": 4,
 "nbformat_minor": 5
}
